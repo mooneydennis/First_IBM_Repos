{
 "cells": [
  {
   "cell_type": "code",
   "execution_count": 1,
   "id": "842c51b0-9206-470b-9b06-486b4c176c4f",
   "metadata": {
    "tags": []
   },
   "outputs": [],
   "source": [
    "# These libraries are pre-installed in SN Labs. If running in another environment please uncomment lines below to install them:\n",
    "# !pip install --force-reinstall ibm_db==3.1.0 ibm_db_sa==0.3.3\n",
    "# Ensure we don't load_ext with sqlalchemy>=1.4 (incompadible)\n",
    "# !pip uninstall sqlalchemy==1.4 -y && pip install sqlalchemy==1.3.24\n",
    "# !pip install ipython-sql"
   ]
  },
  {
   "cell_type": "code",
   "execution_count": 2,
   "id": "ad6e03db-0109-4cda-86eb-d6a2737cce02",
   "metadata": {
    "tags": []
   },
   "outputs": [],
   "source": [
    "%load_ext sql"
   ]
  },
  {
   "cell_type": "code",
   "execution_count": null,
   "id": "0e909637-9f63-497f-9a7e-05cb075034e3",
   "metadata": {
    "tags": []
   },
   "outputs": [],
   "source": [
    "# Remember the connection string is of the format:\n",
    "# %sql ibm_db_sa://my-username:my-password@my-hostname:my-port/my-db-name?security=SSL\n",
    "# Enter the connection string for your Db2 on Cloud database instance below\n",
    "%sql ibm_db_sa://rtr30066:5PO05pdwvpum0dcwd@b70af05b-76e4-4bca-a1f5-23dbb4c6a74e.c1ogj3sd0tgtu0lqde00.databases.appdomain.cloud:32716/1cbbb1b6-3a1a-4d49-9262-3102a8f7a7c8?security=SOCKET"
   ]
  },
  {
   "cell_type": "code",
   "execution_count": null,
   "id": "fa872df5-1662-4a69-a92b-1a6dd554f0dc",
   "metadata": {
    "tags": []
   },
   "outputs": [],
   "source": [
    "%%SQL\n",
    "\n",
    "SELECT CPS.NAME_OF_SCHOOL, CPS.AVERAGE_ATTENDANCE, \n",
    "CPS.COMMUNITY_NAME, CSD.HARDSHIP_INDEX\n",
    "FROM CPS \n",
    "LEFT JOIN  CSD\n",
    "ON CPS.COMMUNITY_NUMBER = CSD.COMMUNITY_NUMBER\n",
    "WHERE HARDSHIP_INDEX = 98;"
   ]
  },
  {
   "cell_type": "code",
   "execution_count": null,
   "id": "a5c978f3-5069-4ae1-bce6-72b1baf3e5c8",
   "metadata": {},
   "outputs": [],
   "source": []
  }
 ],
 "metadata": {
  "kernelspec": {
   "display_name": "Python",
   "language": "python",
   "name": "conda-env-python-py"
  },
  "language_info": {
   "codemirror_mode": {
    "name": "ipython",
    "version": 3
   },
   "file_extension": ".py",
   "mimetype": "text/x-python",
   "name": "python",
   "nbconvert_exporter": "python",
   "pygments_lexer": "ipython3",
   "version": "3.7.12"
  }
 },
 "nbformat": 4,
 "nbformat_minor": 5
}
